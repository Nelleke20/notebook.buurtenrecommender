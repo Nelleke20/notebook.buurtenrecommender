{
 "cells": [
  {
   "cell_type": "markdown",
   "metadata": {},
   "source": [
    "### create class for prediction including business rules"
   ]
  },
  {
   "cell_type": "code",
   "execution_count": 1,
   "metadata": {},
   "outputs": [],
   "source": [
    "import main as mainbleh\n",
    "import logging\n",
    "\n",
    "logging.getLogger().setLevel(logging.INFO)\n"
   ]
  },
  {
   "cell_type": "code",
   "execution_count": 2,
   "metadata": {},
   "outputs": [
    {
     "name": "stderr",
     "output_type": "stream",
     "text": [
      "INFO:root:preparing the dataset...\n",
      "INFO:root:first we will apply the business-rules for all the cases (where possible)...\n",
      "INFO:root:no business-rule applicable..\n",
      "INFO:root:second we will apply the ml-model for the hard-cases...\n",
      "/Users/nellekesmits/Documents/projects/notebook.businessrules/venv/lib/python3.8/site-packages/sklearn/base.py:409: UserWarning: X does not have valid feature names, but StandardScaler was fitted with feature names\n",
      "  warnings.warn(\n"
     ]
    },
    {
     "data": {
      "text/plain": [
       "'We predict (ml) the following score for this neighborhood: [3]'"
      ]
     },
     "execution_count": 2,
     "metadata": {},
     "output_type": "execute_result"
    }
   ],
   "source": [
    "predictor = mainbleh.ModelPred()\n",
    "input_data = {'a_inw': 20, 'a_vrouw': 10, 'bev_dicht': 1423}\n",
    "predictor.predict([list(input_data.values())])"
   ]
  },
  {
   "cell_type": "code",
   "execution_count": 3,
   "metadata": {},
   "outputs": [
    {
     "name": "stderr",
     "output_type": "stream",
     "text": [
      "INFO:root:preparing the dataset...\n",
      "INFO:root:first we will apply the business-rules for all the cases (where possible)...\n",
      "INFO:root:based on business rule 1\n"
     ]
    },
    {
     "data": {
      "text/plain": [
       "'We predict (bl) the following score for this neighborhood: 2000'"
      ]
     },
     "execution_count": 3,
     "metadata": {},
     "output_type": "execute_result"
    }
   ],
   "source": [
    "predictor = mainbleh.ModelPred()\n",
    "input_data = {'a_inw': 2000, 'a_vrouw': 10, 'bev_dicht': 1423}\n",
    "predictor.predict([list(input_data.values())])"
   ]
  },
  {
   "cell_type": "code",
   "execution_count": null,
   "metadata": {},
   "outputs": [],
   "source": []
  }
 ],
 "metadata": {
  "interpreter": {
   "hash": "28faec7aed396cd481ba3802c3cdfe45a56ef24141255515b81ec8489a6cb341"
  },
  "kernelspec": {
   "display_name": "Python 3.8.6 64-bit ('venv': venv)",
   "name": "python3"
  },
  "language_info": {
   "codemirror_mode": {
    "name": "ipython",
    "version": 3
   },
   "file_extension": ".py",
   "mimetype": "text/x-python",
   "name": "python",
   "nbconvert_exporter": "python",
   "pygments_lexer": "ipython3",
   "version": "3.8.6"
  },
  "orig_nbformat": 4
 },
 "nbformat": 4,
 "nbformat_minor": 2
}
