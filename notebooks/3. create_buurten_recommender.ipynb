{
 "cells": [
  {
   "cell_type": "code",
   "execution_count": 1,
   "metadata": {},
   "outputs": [],
   "source": [
    "import pandas as pd\n",
    "import matplotlib.pyplot as plt\n",
    "import ssl\n",
    "import geopandas as gpd\n",
    "ssl._create_default_https_context = ssl._create_unverified_context\n",
    "from sklearn.metrics.pairwise import cosine_similarity\n",
    "import numpy as np\n",
    "import webbrowser\n",
    "from pyogrio import read_dataframe"
   ]
  },
  {
   "cell_type": "code",
   "execution_count": 16,
   "metadata": {},
   "outputs": [],
   "source": [
    "buurt = 'Oorden'\n",
    "n_predictions = 3"
   ]
  },
  {
   "cell_type": "code",
   "execution_count": 17,
   "metadata": {},
   "outputs": [],
   "source": [
    "# first create a map which can be used later in the analysis\n",
    "file_path = '../data/buurt_2020_v3.shp'\n",
    "buurten_map = read_dataframe(file_path)\n",
    "clean_up = False\n",
    "provincie_utrecht_gemeente =[\n",
    "    'Amersfoort',\n",
    "    'Baarn',\n",
    "    'Bunnik',\n",
    "    'Bunschoten',\n",
    "    'De Bilt',\n",
    "    'De Ronde Venen',\n",
    "    'Eemnes',\n",
    "    'Houten',\n",
    "    'Leusden',\n",
    "    'Lopik',\n",
    "    'Montfoort',\n",
    "    'Nieuwegein',\n",
    "    'Oudewater',\n",
    "    'Renswoude',\n",
    "    'Rhenen',\n",
    "    'Soest',\n",
    "    'Stichtse Vecht',\n",
    "    'Utrecht',\n",
    "    'Utrechtse Heuvelrug',\n",
    "    'Veenendaal',\n",
    "    'Vijfheerenlanden',\n",
    "    'Wijk bij Duurstede',\n",
    "    'Woerden',\n",
    "    'Woudenberg',\n",
    "    'IJsselstein',\n",
    "    'Zeist']\n",
    "\n",
    "gemeente_selectie = provincie_utrecht_gemeente\n",
    "gem_map = buurten_map.loc[buurten_map['GM_NAAM'].isin(gemeente_selectie)]\n",
    "\n",
    "if clean_up:\n",
    "    drop_buurten_houten = ['Buitengebied Houten West',\n",
    "        'Buitengebied Houten Oost', \"Dorp 't Goy\", \"'t Goyse Dorp\",\n",
    "        \"Buitengebied 't Goy\", \"'t Waal\", 'Tull',\n",
    "        \"Buitengebied Tull en 't Waal\", 'Dorp Schalkwijk West',\n",
    "        'Dorp Schalkwijk Oost', 'Buitengebied Schalkwijk West',\n",
    "        'Buitengebied Schalkwijk Oost','Bruggen', 'Bogen', 'De Poel',\n",
    "        'Schepen', 'Boten', 'Honen', 'Kaden', 'Vesten', 'De Staart',\n",
    "        'Hof van Wulven', 'Rondweg Noord-Oost', 'Rondweg Noord-West',\n",
    "        'Rondweg Zuid-Oost', 'Rondweg Zuid-West'] \n",
    "\n",
    "    drop_buurten_utrecht = [\n",
    "        'Bedrijventerrein Lageweide',\n",
    "        'Haarzuilens en omgeving',\n",
    "        'Bedrijventerrein en omgeving',\n",
    "        'Utrecht Science Park',\n",
    "                'Bedrijvengebied Strijkviertel', \n",
    "                'Bedrijvengebied Papendorp',\n",
    "                'Rijnenburg',\n",
    "                'Poldergebied Overvecht' ,\n",
    "                ]\n",
    "\n",
    "    gem_map = gem_map.loc[~gem_map['BU_NAAM'].isin(drop_buurten_houten)]\n",
    "    gem_map = gem_map.loc[~gem_map['BU_NAAM'].isin(drop_buurten_utrecht)]\n"
   ]
  },
  {
   "cell_type": "markdown",
   "metadata": {},
   "source": [
    "#### Ophalen van dataset"
   ]
  },
  {
   "cell_type": "code",
   "execution_count": 18,
   "metadata": {},
   "outputs": [],
   "source": [
    "buurten = pd.read_csv('../data/buurten.csv', index_col=0)"
   ]
  },
  {
   "cell_type": "code",
   "execution_count": 30,
   "metadata": {},
   "outputs": [
    {
     "data": {
      "text/plain": [
       "Index(['buurt_code', 'gm_naam', 'regio', 'aantal_inwoners',\n",
       "       'aantal_inwoners_tussen_25_44_percentage',\n",
       "       'aantal_huishoudens_met_kinderen_percentage',\n",
       "       'gemiddelde_huishoudensgrootte', 'woningvoorraad',\n",
       "       'gemiddelde_woningwaarde', 'meergezinswoning_percentage',\n",
       "       'bewoond_percentage', 'koopwoning_percentage',\n",
       "       'bouwjaar_vanaf_2000_percentage', 'afstand_tot_ziekenhuis_km',\n",
       "       'afstand_tot_grote_supermarkt_km', 'afstand_tot_cafe_km',\n",
       "       'afstand_tot_kinderdagverblijf_km',\n",
       "       'afstand_tot_buitenschoolseopvang_km', 'afstand_tot_openbaar_groen_km',\n",
       "       'afstand_tot_park_of_plantsoen_km', 'afstand_tot_bos_km',\n",
       "       'afstand_tot_hoofdverkeersweg_km', 'afstand_tot_treinstation_km',\n",
       "       'AfstandTotSemiOpenbaarGroenTotaal_83', 'leefbarometer_score',\n",
       "       'leefbarometer_fysieke_omgeving', 'leefbarometer_fysieke_overlast',\n",
       "       'leefbarometer_sociale_samenhang', 'leefbarometer_voorzieningen',\n",
       "       'aardgasverbruik_m3_gemiddeld', 'elektriciteitsverbruik_kwh_gemiddeld',\n",
       "       'social_economische_score_gemiddeld', 'geluid_van_treinverkeer',\n",
       "       'geluid_van_weg'],\n",
       "      dtype='object')"
      ]
     },
     "execution_count": 30,
     "metadata": {},
     "output_type": "execute_result"
    }
   ],
   "source": [
    "buurten.columns"
   ]
  },
  {
   "cell_type": "code",
   "execution_count": 19,
   "metadata": {},
   "outputs": [],
   "source": [
    "#remove nan's in dataset\n",
    "buurten = buurten.dropna()  #for now we just drop them\n",
    "\n",
    "#create x and identifier \n",
    "identifier = pd.DataFrame(buurten[['buurt_code', 'gm_naam', 'regio']])\n",
    "X = buurten[buurten.columns[~buurten.columns.isin(identifier.columns)]]\n"
   ]
  },
  {
   "cell_type": "code",
   "execution_count": 20,
   "metadata": {},
   "outputs": [
    {
     "data": {
      "text/html": [
       "<div>\n",
       "<style scoped>\n",
       "    .dataframe tbody tr th:only-of-type {\n",
       "        vertical-align: middle;\n",
       "    }\n",
       "\n",
       "    .dataframe tbody tr th {\n",
       "        vertical-align: top;\n",
       "    }\n",
       "\n",
       "    .dataframe thead th {\n",
       "        text-align: right;\n",
       "    }\n",
       "</style>\n",
       "<table border=\"1\" class=\"dataframe\">\n",
       "  <thead>\n",
       "    <tr style=\"text-align: right;\">\n",
       "      <th></th>\n",
       "      <th>aantal_inwoners</th>\n",
       "      <th>aantal_inwoners_tussen_25_44_percentage</th>\n",
       "      <th>aantal_huishoudens_met_kinderen_percentage</th>\n",
       "      <th>gemiddelde_huishoudensgrootte</th>\n",
       "      <th>woningvoorraad</th>\n",
       "      <th>gemiddelde_woningwaarde</th>\n",
       "      <th>meergezinswoning_percentage</th>\n",
       "      <th>bewoond_percentage</th>\n",
       "      <th>koopwoning_percentage</th>\n",
       "      <th>bouwjaar_vanaf_2000_percentage</th>\n",
       "      <th>...</th>\n",
       "      <th>leefbarometer_score</th>\n",
       "      <th>leefbarometer_fysieke_omgeving</th>\n",
       "      <th>leefbarometer_fysieke_overlast</th>\n",
       "      <th>leefbarometer_sociale_samenhang</th>\n",
       "      <th>leefbarometer_voorzieningen</th>\n",
       "      <th>aardgasverbruik_m3_gemiddeld</th>\n",
       "      <th>elektriciteitsverbruik_kwh_gemiddeld</th>\n",
       "      <th>social_economische_score_gemiddeld</th>\n",
       "      <th>geluid_van_treinverkeer</th>\n",
       "      <th>geluid_van_weg</th>\n",
       "    </tr>\n",
       "  </thead>\n",
       "  <tbody>\n",
       "    <tr>\n",
       "      <th>0</th>\n",
       "      <td>710</td>\n",
       "      <td>36.62</td>\n",
       "      <td>5.63</td>\n",
       "      <td>1.4</td>\n",
       "      <td>396</td>\n",
       "      <td>335.0</td>\n",
       "      <td>69.0</td>\n",
       "      <td>91.0</td>\n",
       "      <td>26.0</td>\n",
       "      <td>2.0</td>\n",
       "      <td>...</td>\n",
       "      <td>4.22</td>\n",
       "      <td>0.02</td>\n",
       "      <td>-0.14</td>\n",
       "      <td>-0.04</td>\n",
       "      <td>0.24</td>\n",
       "      <td>1310.0</td>\n",
       "      <td>2430.0</td>\n",
       "      <td>-0.12</td>\n",
       "      <td>20.00</td>\n",
       "      <td>31.65</td>\n",
       "    </tr>\n",
       "    <tr>\n",
       "      <th>1</th>\n",
       "      <td>460</td>\n",
       "      <td>32.61</td>\n",
       "      <td>8.70</td>\n",
       "      <td>1.6</td>\n",
       "      <td>259</td>\n",
       "      <td>420.0</td>\n",
       "      <td>61.0</td>\n",
       "      <td>93.0</td>\n",
       "      <td>41.0</td>\n",
       "      <td>11.0</td>\n",
       "      <td>...</td>\n",
       "      <td>4.26</td>\n",
       "      <td>0.02</td>\n",
       "      <td>-0.10</td>\n",
       "      <td>-0.03</td>\n",
       "      <td>0.24</td>\n",
       "      <td>1280.0</td>\n",
       "      <td>2600.0</td>\n",
       "      <td>0.09</td>\n",
       "      <td>20.00</td>\n",
       "      <td>27.01</td>\n",
       "    </tr>\n",
       "    <tr>\n",
       "      <th>2</th>\n",
       "      <td>165</td>\n",
       "      <td>24.24</td>\n",
       "      <td>12.12</td>\n",
       "      <td>1.7</td>\n",
       "      <td>100</td>\n",
       "      <td>440.0</td>\n",
       "      <td>72.0</td>\n",
       "      <td>89.0</td>\n",
       "      <td>45.0</td>\n",
       "      <td>0.0</td>\n",
       "      <td>...</td>\n",
       "      <td>4.28</td>\n",
       "      <td>0.04</td>\n",
       "      <td>-0.11</td>\n",
       "      <td>-0.03</td>\n",
       "      <td>0.24</td>\n",
       "      <td>1350.0</td>\n",
       "      <td>2770.0</td>\n",
       "      <td>0.00</td>\n",
       "      <td>20.00</td>\n",
       "      <td>24.79</td>\n",
       "    </tr>\n",
       "    <tr>\n",
       "      <th>3</th>\n",
       "      <td>465</td>\n",
       "      <td>32.26</td>\n",
       "      <td>8.60</td>\n",
       "      <td>1.6</td>\n",
       "      <td>298</td>\n",
       "      <td>341.0</td>\n",
       "      <td>77.0</td>\n",
       "      <td>94.0</td>\n",
       "      <td>33.0</td>\n",
       "      <td>1.0</td>\n",
       "      <td>...</td>\n",
       "      <td>4.18</td>\n",
       "      <td>0.02</td>\n",
       "      <td>-0.18</td>\n",
       "      <td>-0.05</td>\n",
       "      <td>0.26</td>\n",
       "      <td>1170.0</td>\n",
       "      <td>2290.0</td>\n",
       "      <td>-0.04</td>\n",
       "      <td>20.00</td>\n",
       "      <td>30.61</td>\n",
       "    </tr>\n",
       "    <tr>\n",
       "      <th>4</th>\n",
       "      <td>1255</td>\n",
       "      <td>33.86</td>\n",
       "      <td>8.76</td>\n",
       "      <td>1.6</td>\n",
       "      <td>772</td>\n",
       "      <td>308.0</td>\n",
       "      <td>48.0</td>\n",
       "      <td>95.0</td>\n",
       "      <td>29.0</td>\n",
       "      <td>5.0</td>\n",
       "      <td>...</td>\n",
       "      <td>4.22</td>\n",
       "      <td>0.01</td>\n",
       "      <td>-0.09</td>\n",
       "      <td>-0.04</td>\n",
       "      <td>0.22</td>\n",
       "      <td>1150.0</td>\n",
       "      <td>2300.0</td>\n",
       "      <td>-0.12</td>\n",
       "      <td>20.45</td>\n",
       "      <td>28.56</td>\n",
       "    </tr>\n",
       "  </tbody>\n",
       "</table>\n",
       "<p>5 rows × 31 columns</p>\n",
       "</div>"
      ],
      "text/plain": [
       "   aantal_inwoners  aantal_inwoners_tussen_25_44_percentage  \\\n",
       "0              710                                    36.62   \n",
       "1              460                                    32.61   \n",
       "2              165                                    24.24   \n",
       "3              465                                    32.26   \n",
       "4             1255                                    33.86   \n",
       "\n",
       "   aantal_huishoudens_met_kinderen_percentage  gemiddelde_huishoudensgrootte  \\\n",
       "0                                        5.63                            1.4   \n",
       "1                                        8.70                            1.6   \n",
       "2                                       12.12                            1.7   \n",
       "3                                        8.60                            1.6   \n",
       "4                                        8.76                            1.6   \n",
       "\n",
       "   woningvoorraad  gemiddelde_woningwaarde  meergezinswoning_percentage  \\\n",
       "0             396                    335.0                         69.0   \n",
       "1             259                    420.0                         61.0   \n",
       "2             100                    440.0                         72.0   \n",
       "3             298                    341.0                         77.0   \n",
       "4             772                    308.0                         48.0   \n",
       "\n",
       "   bewoond_percentage  koopwoning_percentage  bouwjaar_vanaf_2000_percentage  \\\n",
       "0                91.0                   26.0                             2.0   \n",
       "1                93.0                   41.0                            11.0   \n",
       "2                89.0                   45.0                             0.0   \n",
       "3                94.0                   33.0                             1.0   \n",
       "4                95.0                   29.0                             5.0   \n",
       "\n",
       "   ...  leefbarometer_score  leefbarometer_fysieke_omgeving  \\\n",
       "0  ...                 4.22                            0.02   \n",
       "1  ...                 4.26                            0.02   \n",
       "2  ...                 4.28                            0.04   \n",
       "3  ...                 4.18                            0.02   \n",
       "4  ...                 4.22                            0.01   \n",
       "\n",
       "   leefbarometer_fysieke_overlast  leefbarometer_sociale_samenhang  \\\n",
       "0                           -0.14                            -0.04   \n",
       "1                           -0.10                            -0.03   \n",
       "2                           -0.11                            -0.03   \n",
       "3                           -0.18                            -0.05   \n",
       "4                           -0.09                            -0.04   \n",
       "\n",
       "   leefbarometer_voorzieningen  aardgasverbruik_m3_gemiddeld  \\\n",
       "0                         0.24                        1310.0   \n",
       "1                         0.24                        1280.0   \n",
       "2                         0.24                        1350.0   \n",
       "3                         0.26                        1170.0   \n",
       "4                         0.22                        1150.0   \n",
       "\n",
       "   elektriciteitsverbruik_kwh_gemiddeld  social_economische_score_gemiddeld  \\\n",
       "0                                2430.0                               -0.12   \n",
       "1                                2600.0                                0.09   \n",
       "2                                2770.0                                0.00   \n",
       "3                                2290.0                               -0.04   \n",
       "4                                2300.0                               -0.12   \n",
       "\n",
       "   geluid_van_treinverkeer  geluid_van_weg  \n",
       "0                    20.00           31.65  \n",
       "1                    20.00           27.01  \n",
       "2                    20.00           24.79  \n",
       "3                    20.00           30.61  \n",
       "4                    20.45           28.56  \n",
       "\n",
       "[5 rows x 31 columns]"
      ]
     },
     "execution_count": 20,
     "metadata": {},
     "output_type": "execute_result"
    }
   ],
   "source": [
    "X.head()"
   ]
  },
  {
   "cell_type": "markdown",
   "metadata": {},
   "source": [
    "#### Create similarity score and generate recommendations"
   ]
  },
  {
   "cell_type": "code",
   "execution_count": 21,
   "metadata": {},
   "outputs": [],
   "source": [
    "# create similarities between features in the dataframe\n",
    "cosine_sim_matrix = cosine_similarity(X, X) #normalized dot product"
   ]
  },
  {
   "cell_type": "code",
   "execution_count": 22,
   "metadata": {},
   "outputs": [],
   "source": [
    "# buurt id\n",
    "buurt_id = buurten[['buurt_code', 'regio']]\n",
    "\n",
    "# zet naam om naar id van de buurt\n",
    "code_van_buurt = buurt_id.loc[buurt_id['regio'] == buurt, 'buurt_code'].item()\n",
    "\n",
    "# get all buurt-codes in de dataset en de indices die daarbij horen\n",
    "buurten_code = buurten['buurt_code']\n",
    "indice_per_buurtcode = pd.Series(buurten.index, index=buurten['buurt_code']) "
   ]
  },
  {
   "cell_type": "code",
   "execution_count": 23,
   "metadata": {},
   "outputs": [],
   "source": [
    "# create dataframe with predictions\n",
    "indice_voor_selected_buurtcode = indice_per_buurtcode[code_van_buurt]\n",
    "\n",
    "# get score voor sim_score\n",
    "sim_scores_per_andere_buurt = list(enumerate(cosine_sim_matrix[indice_voor_selected_buurtcode]))\n",
    "sim_scores_per_andere_buurt = sorted(sim_scores_per_andere_buurt, key=lambda x: x[1], reverse=True)\n",
    "sim_scores_top_n = sim_scores_per_andere_buurt[1:n_predictions+1]  # without own similarity"
   ]
  },
  {
   "cell_type": "code",
   "execution_count": 24,
   "metadata": {},
   "outputs": [],
   "source": [
    "# get scores as seperate list\n",
    "scores = [i[1] for i in sim_scores_top_n]\n",
    "scores = [round(score, 4) for score in scores]\n",
    "\n",
    "# get names of the buurten that are recommended\n",
    "buurten_indices = [i[0] for i in sim_scores_top_n]\n",
    "recommendations = buurten.iloc[buurten_indices]['buurt_code'].to_list()\n",
    "recommendations_df = pd.DataFrame(list(zip(recommendations, scores)))\n",
    "recommendations_naam = buurt_id.loc[buurt_id['buurt_code'].isin(recommendations), 'regio'].to_list()"
   ]
  },
  {
   "cell_type": "code",
   "execution_count": 25,
   "metadata": {},
   "outputs": [
    {
     "data": {
      "text/plain": [
       "['Akkerhoeve', 'Benschop Boveneind-Benedeneind', 'Donderberg']"
      ]
     },
     "execution_count": 25,
     "metadata": {},
     "output_type": "execute_result"
    }
   ],
   "source": [
    "recommendations_naam"
   ]
  },
  {
   "cell_type": "code",
   "execution_count": 26,
   "metadata": {},
   "outputs": [
    {
     "name": "stdout",
     "output_type": "stream",
     "text": [
      "De volgende buurten zijn aan te raden: ['Akkerhoeve', 'Benschop Boveneind-Benedeneind', 'Donderberg']\n"
     ]
    },
    {
     "data": {
      "image/png": "[encoded data removed]",
      "text/plain": [
       "<Figure size 600x400 with 1 Axes>"
      ]
     },
     "metadata": {},
     "output_type": "display_data"
    }
   ],
   "source": [
    "# create plot with predictions\n",
    "merged_df = gem_map.merge(recommendations_df, left_on='BU_CODE', right_on=0, how='left')\n",
    "merged_df.loc[~merged_df[1].isnull(),'dummy'] = 1           # green\n",
    "merged_df.loc[merged_df[1].isnull(),'dummy'] = 0.5          # yellow\n",
    "merged_df.loc[merged_df['BU_NAAM'] == buurt, 'dummy'] = 0   # red\n",
    "\n",
    "# Maak een thematische kaart\n",
    "p = merged_df.plot(column=\"dummy\",\n",
    "                    figsize = (6,4),\n",
    "                    cmap='RdYlGn')\n",
    "p.axis('off')\n",
    "p.set_title(f'Voor jouw buurt \"{buurt}\", woorden de volgende buurten geadvisereed:')\n",
    "print('De volgende buurten zijn aan te raden:', recommendations_naam)"
   ]
  },
  {
   "cell_type": "code",
   "execution_count": 27,
   "metadata": {},
   "outputs": [],
   "source": [
    "### RENAME COLUMNS TO READABLE FORMAT\n",
    "features_visualisatie = [ 'geometry', 'regio',\n",
    "'buurt_code', \n",
    "'aantal_inwoners', \n",
    "'aantal_inwoners_tussen_25_44_percentage', \n",
    "'gemiddelde_huishoudensgrootte',\n",
    "'woningvoorraad', \n",
    "'gemiddelde_woningwaarde', \n",
    "'meergezinswoning_percentage', \n",
    "'bewoond_percentage',\n",
    "'koopwoning_percentage', \n",
    "'bouwjaar_vanaf_2000_percentage', \n",
    "'afstand_tot_grote_supermarkt_km', \n",
    "'afstand_tot_park_of_plantsoen_km', \n",
    "'afstand_tot_hoofdverkeersweg_km',\n",
    "'afstand_tot_treinstation_km',\n",
    "'leefbarometer_score', \n",
    "'aardgasverbruik_m3_gemiddeld', \n",
    "'elektriciteitsverbruik_kwh_gemiddeld',\n",
    "'social_economische_score_gemiddeld', \n",
    "'geluid_van_treinverkeer',\n",
    "'geluid_van_weg'\n",
    "]"
   ]
  },
  {
   "cell_type": "code",
   "execution_count": 28,
   "metadata": {},
   "outputs": [],
   "source": [
    "geometry = gem_map[['geometry', 'BU_CODE']]\n",
    "geometry = geometry.merge(buurt_id, left_on='BU_CODE', right_on='buurt_code')\n",
    "explore = geometry.merge(buurten, left_on='BU_CODE', right_on='buurt_code', how='left')\n",
    "recommendations_plus_buurt = recommendations \n",
    "recommendations_plus_buurt.append(code_van_buurt)\n",
    "\n",
    "explore = explore.loc[explore['BU_CODE'].isin(recommendations_plus_buurt)]\n",
    "explore = explore[explore.columns[explore.columns.isin(features_visualisatie)]]"
   ]
  },
  {
   "cell_type": "code",
   "execution_count": 29,
   "metadata": {},
   "outputs": [
    {
     "data": {
      "text/plain": [
       "True"
      ]
     },
     "execution_count": 29,
     "metadata": {},
     "output_type": "execute_result"
    }
   ],
   "source": [
    "import os\n",
    "explore_interaction = explore.explore(popup=True)\n",
    "\n",
    "# and then we write the map to disk\n",
    "explore_interaction.save('recommendations_map.html')\n",
    "\n",
    "# then open it\n",
    "webbrowser.open('file://' + os.path.realpath('recommendations_map.html'))"
   ]
  },
  {
   "cell_type": "code",
   "execution_count": null,
   "metadata": {},
   "outputs": [],
   "source": []
  }
 ],
 "metadata": {
  "interpreter": {
   "hash": "28faec7aed396cd481ba3802c3cdfe45a56ef24141255515b81ec8489a6cb341"
  },
  "kernelspec": {
   "display_name": "Python 3.8.6 64-bit ('venv': venv)",
   "name": "python3"
  },
  "language_info": {
   "codemirror_mode": {
    "name": "ipython",
    "version": 3
   },
   "file_extension": ".py",
   "mimetype": "text/x-python",
   "name": "python",
   "nbconvert_exporter": "python",
   "pygments_lexer": "ipython3",
   "version": "3.8.6"
  },
  "orig_nbformat": 4
 },
 "nbformat": 4,
 "nbformat_minor": 2
}
