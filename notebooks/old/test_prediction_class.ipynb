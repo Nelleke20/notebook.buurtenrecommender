{
 "cells": [
  {
   "cell_type": "markdown",
   "metadata": {},
   "source": [
    "### create class for prediction including business rules"
   ]
  },
  {
   "cell_type": "code",
   "execution_count": 1,
   "metadata": {},
   "outputs": [],
   "source": [
    "import joblib\n",
    "\n",
    "### VERSION 1 ###\n",
    "\n",
    "class Model:\n",
    "    def __init__(self):\n",
    "        self._model = joblib.load('../data/finalized_model.sav')\n",
    "    \n",
    "    def prepare_dataset(self, X):\n",
    "        print('preparing the dataset...')\n",
    "        # prepare dataset\n",
    "        X = X\n",
    "        return X\n",
    "\n",
    "    def apply_business_rules(self, X):       \n",
    "        print('first we will apply the business-rules for all the cases (where possible)...')\n",
    "\n",
    "        # business-rule 1: check if feature one is bigger than\n",
    "        if X[0][0] > 350:\n",
    "            return 2000\n",
    "        # business-rule 2: check if feature two is bigger than\n",
    "        elif X[0][1] > 12:\n",
    "            return 2000            \n",
    "        # when no business-rule is applicable, we pass it for the model    \n",
    "        else:\n",
    "            pass\n",
    "        \n",
    "    def apply_model_prediction(self, X):\n",
    "        print('second we will apply the ml-model for the hard-cases...')\n",
    "        output = self._model.predict(X)\n",
    "        return output\n",
    "    \n",
    "    def predict(self, X):\n",
    "        X_prep = self.prepare_dataset(X)\n",
    "        output_bl = self.apply_business_rules(X_prep)\n",
    "        if output_bl:\n",
    "            return f'We predict (bl) the following score for this neighborhood: {output_bl}'    \n",
    "        else:\n",
    "            output_ml = self.apply_model_prediction(X_prep)\n",
    "            return f'We predict (ml) the following score for this neighborhood: {output_ml}'    "
   ]
  },
  {
   "cell_type": "code",
   "execution_count": 2,
   "metadata": {},
   "outputs": [
    {
     "name": "stdout",
     "output_type": "stream",
     "text": [
      "preparing the dataset...\n",
      "first we will apply the business-rules for all the cases (where possible)...\n",
      "second we will apply the ml-model for the hard-cases...\n"
     ]
    },
    {
     "name": "stderr",
     "output_type": "stream",
     "text": [
      "/Users/nellekesmits/Documents/projects/notebook.businessrules/venv/lib/python3.8/site-packages/sklearn/base.py:409: UserWarning: X does not have valid feature names, but StandardScaler was fitted with feature names\n",
      "  warnings.warn(\n"
     ]
    },
    {
     "data": {
      "text/plain": [
       "'We predict (ml) the following score for this neighborhood: [3]'"
      ]
     },
     "execution_count": 2,
     "metadata": {},
     "output_type": "execute_result"
    }
   ],
   "source": [
    "predictor = Model()\n",
    "input_data = {'a_inw': 100, 'a_vrouw': 10, 'bev_dicht': 1423}\n",
    "predictor.predict([list(input_data.values())])"
   ]
  },
  {
   "cell_type": "code",
   "execution_count": 3,
   "metadata": {},
   "outputs": [],
   "source": [
    "import joblib\n",
    "\n",
    "### VERSION 2 ###\n",
    "\n",
    "class BusinessRules:\n",
    "    def __init__(self):\n",
    "        pass\n",
    "\n",
    "    def apply_business_rules(self, X):       \n",
    "        print('first we will apply the business-rules for all the cases (where possible)...')\n",
    "\n",
    "        # business-rule 1: check if feature one is bigger than\n",
    "        if X[0][0] > 350:\n",
    "            return 2000\n",
    "\n",
    "        # business-rule 2: check if feature two is bigger than\n",
    "        elif X[0][1] > 12:\n",
    "            return 2000            \n",
    "            \n",
    "        # when no business-rule is applicable, we pass it for the prediction-model    \n",
    "        else:\n",
    "            pass\n",
    "\n",
    "\n",
    "class ModelPred(BusinessRules):\n",
    "    def __init__(self):\n",
    "        self._model = joblib.load('../data/finalized_model.sav')\n",
    "    \n",
    "    def prepare_dataset(self, X):\n",
    "        print('preparing the dataset...')\n",
    "        # prepare dataset\n",
    "        X = X\n",
    "        return X\n",
    "        \n",
    "    def apply_business_rules(self, X):\n",
    "        # other class is used to define business rules\n",
    "        return super().apply_business_rules(X)\n",
    "\n",
    "    def apply_model_prediction(self, X):\n",
    "        print('second we will apply the ml-model for the hard-cases...')\n",
    "        output = self._model.predict(X)\n",
    "        return output\n",
    "    \n",
    "    def predict(self, X):\n",
    "        X_prep = self.prepare_dataset(X)\n",
    "        output_bl = self.apply_business_rules(X_prep)\n",
    "        if output_bl:\n",
    "            return f'We predict (bl) the following score for this neighborhood: {output_bl}'    \n",
    "        else:\n",
    "            output_ml = self.apply_model_prediction(X_prep)\n",
    "            return f'We predict (ml) the following score for this neighborhood: {output_ml}'    "
   ]
  },
  {
   "cell_type": "code",
   "execution_count": 4,
   "metadata": {},
   "outputs": [
    {
     "name": "stdout",
     "output_type": "stream",
     "text": [
      "preparing the dataset...\n",
      "first we will apply the business-rules for all the cases (where possible)...\n",
      "second we will apply the ml-model for the hard-cases...\n"
     ]
    },
    {
     "name": "stderr",
     "output_type": "stream",
     "text": [
      "/Users/nellekesmits/Documents/projects/notebook.businessrules/venv/lib/python3.8/site-packages/sklearn/base.py:409: UserWarning: X does not have valid feature names, but StandardScaler was fitted with feature names\n",
      "  warnings.warn(\n"
     ]
    },
    {
     "data": {
      "text/plain": [
       "'We predict (ml) the following score for this neighborhood: [3]'"
      ]
     },
     "execution_count": 4,
     "metadata": {},
     "output_type": "execute_result"
    }
   ],
   "source": [
    "predictor = ModelPred()\n",
    "input_data = {'a_inw': 100, 'a_vrouw': 10, 'bev_dicht': 1423}\n",
    "predictor.predict([list(input_data.values())])"
   ]
  },
  {
   "cell_type": "markdown",
   "metadata": {},
   "source": [
    "### PART TWO WITH TWO MODELS"
   ]
  },
  {
   "cell_type": "code",
   "execution_count": 1,
   "metadata": {},
   "outputs": [
    {
     "ename": "ModuleNotFoundError",
     "evalue": "No module named 'businessrules'",
     "output_type": "error",
     "traceback": [
      "\u001b[0;31m---------------------------------------------------------------------------\u001b[0m",
      "\u001b[0;31mModuleNotFoundError\u001b[0m                       Traceback (most recent call last)",
      "Cell \u001b[0;32mIn[1], line 3\u001b[0m\n\u001b[1;32m      1\u001b[0m \u001b[38;5;66;03m### VERSION 3 ###\u001b[39;00m\n\u001b[0;32m----> 3\u001b[0m \u001b[38;5;28;01mimport\u001b[39;00m \u001b[38;5;21;01mbusinessrules\u001b[39;00m \u001b[38;5;28;01mas\u001b[39;00m \u001b[38;5;21;01mrules\u001b[39;00m\n\u001b[1;32m      4\u001b[0m \u001b[38;5;28;01mimport\u001b[39;00m \u001b[38;5;21;01mjoblib\u001b[39;00m\n\u001b[1;32m      5\u001b[0m \u001b[38;5;28;01mimport\u001b[39;00m \u001b[38;5;21;01mlogging\u001b[39;00m\n",
      "\u001b[0;31mModuleNotFoundError\u001b[0m: No module named 'businessrules'"
     ]
    }
   ],
   "source": [
    "# ### VERSION 3 ###\n",
    "\n",
    "# import businessrules as rules\n",
    "# import joblib\n",
    "# import logging\n",
    "\n",
    "\n",
    "# class BuurtenModel(rules.BusinessRulesOne, rules.BusinessRulesTwo):\n",
    "#     def __init__(self):\n",
    "#         self._model_one = joblib.load(\"../data/finalized_model.sav\")\n",
    "#         self._model_two = joblib.load(\"../data/finalized_model.sav\")\n",
    "\n",
    "#     def prepare_dataset(self, X):\n",
    "#         logging.info(\"preparing the dataset...\")\n",
    "#         # prepare dataset\n",
    "#         X = X\n",
    "#         return X\n",
    "\n",
    "#     def apply_business_rules_one(self, X):\n",
    "#         # business-rules.py  is used to define business rules\n",
    "#         return super().apply_business_rules_one(X)\n",
    "\n",
    "#     def apply_business_rules_two(self, X):\n",
    "#         # business-rules.py  is used to define business rules\n",
    "#         return super().apply_business_rules_two(X)\n",
    "\n",
    "#     def apply_model_prediction_one(self, X):\n",
    "#         logging.info(\"second we will apply the ml-model for the hard-cases...\")\n",
    "#         prediction_type = 'model_voorspelling'\n",
    "#         output = self._model_one.predict(X)\n",
    "#         return {'prediction_type_one': prediction_type,\n",
    "#                 'prediction_one': output}\n",
    "\n",
    "#     def apply_model_prediction_two(self, X, ):\n",
    "#         logging.info(\"second we will apply the ml-model for the hard-cases...\")\n",
    "#         prediction_type = 'model_voorspelling'\n",
    "#         output = self._model_two.predict(X)\n",
    "#         return {'prediction_type_two': prediction_type,\n",
    "#                 'prediction_two': output}            \n",
    "\n",
    "#     def predict(self, X):\n",
    "\n",
    "#         # prepare dataset\n",
    "#         X_prep = self.prepare_dataset(X)\n",
    "\n",
    "#         # apply first business rules (returns json or empty)\n",
    "#         output_bl = self.apply_business_rules_one(X_prep)\n",
    "\n",
    "#         # if output_bl filled, return as output, otherwise prediction with model\n",
    "#         output_step_one = [output_bl if output_bl else self.apply_model_prediction_one(X_prep)]\n",
    "\n",
    "#         # based on first predictionn, apply business rules part two\n",
    "#         output_bl_two = self.apply_business_rules_two(X_prep, output_step_one)\n",
    "\n",
    "#         # if output_final\n",
    "#         if output_bl_two['prediction_type_two'] == \"model_voorspelling\":\n",
    "#             output_bl_two['prediction_two'] = self.apply_model_prediction_two(X_prep)\n",
    "\n",
    "#         return output_bl_two\n"
   ]
  },
  {
   "cell_type": "code",
   "execution_count": null,
   "metadata": {},
   "outputs": [],
   "source": []
  }
 ],
 "metadata": {
  "interpreter": {
   "hash": "28faec7aed396cd481ba3802c3cdfe45a56ef24141255515b81ec8489a6cb341"
  },
  "kernelspec": {
   "display_name": "Python 3.8.6 64-bit ('venv': venv)",
   "name": "python3"
  },
  "language_info": {
   "codemirror_mode": {
    "name": "ipython",
    "version": 3
   },
   "file_extension": ".py",
   "mimetype": "text/x-python",
   "name": "python",
   "nbconvert_exporter": "python",
   "pygments_lexer": "ipython3",
   "version": "3.8.6"
  },
  "orig_nbformat": 4
 },
 "nbformat": 4,
 "nbformat_minor": 2
}
